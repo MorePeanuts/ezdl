{
 "cells": [
  {
   "cell_type": "markdown",
   "id": "c56ad1de-7bcc-4ae8-97b4-b84c518df254",
   "metadata": {},
   "source": [
    "在自注意力机制中，我们的目标是计算输入序列中每个元素$x^{(i)}$的上下文向量\n",
    "\n",
    "假设有如下输入句子（已嵌入为 3 维向量）"
   ]
  },
  {
   "cell_type": "code",
   "execution_count": 1,
   "id": "62b25764-5186-4a55-b719-b3d61752473e",
   "metadata": {},
   "outputs": [],
   "source": [
    "import torch\n",
    "inputs = torch.tensor(\n",
    "\t[[0.43, 0.15, 0.89], # Your (x^1)\n",
    "\t [0.55, 0.87, 0.66], # journey (x^2)\n",
    "\t [0.57, 0.85, 0.64], # starts (x^3)\n",
    "\t [0.22, 0.58, 0.33], # with (x^4)\n",
    "\t [0.77, 0.25, 0.10], # one (x^5)\n",
    "\t [0.05, 0.80, 0.55]] # step (x^6)\n",
    ")"
   ]
  },
  {
   "cell_type": "markdown",
   "id": "325f71dc-f56e-4f48-a0c5-6bf68c99beac",
   "metadata": {},
   "source": [
    "1. 计算注意力分数$\\omega$（attention score）："
   ]
  },
  {
   "cell_type": "code",
   "execution_count": 2,
   "id": "046ea646-4ca7-4292-919a-5f6c851aed1d",
   "metadata": {},
   "outputs": [
    {
     "name": "stdout",
     "output_type": "stream",
     "text": [
      "tensor([0.9544, 1.4950, 1.4754, 0.8434, 0.7070, 1.0865])\n"
     ]
    }
   ],
   "source": [
    "query = inputs[1]\n",
    "attn_scores_1 = inputs @ query\n",
    "print(attn_scores_1)"
   ]
  },
  {
   "cell_type": "markdown",
   "id": "a7e9a19b-f421-44de-a485-836949ca3b4d",
   "metadata": {},
   "source": [
    "2. 计算注意力权重$\\alpha$（attention weights）："
   ]
  },
  {
   "cell_type": "code",
   "execution_count": 3,
   "id": "1a664905-28b0-4639-a3b8-b905112a0c02",
   "metadata": {},
   "outputs": [
    {
     "name": "stdout",
     "output_type": "stream",
     "text": [
      "tensor([0.1385, 0.2379, 0.2333, 0.1240, 0.1082, 0.1581])\n"
     ]
    }
   ],
   "source": [
    "attn_weights_1 = torch.softmax(attn_scores_1, dim=0)\n",
    "print(attn_weights_1)"
   ]
  },
  {
   "cell_type": "markdown",
   "id": "7686be39-15af-498e-b2cf-9ed07335076d",
   "metadata": {},
   "source": [
    "3. 计算上下文向量$z$（context vector）："
   ]
  },
  {
   "cell_type": "code",
   "execution_count": 4,
   "id": "b0ecd1da-9917-4570-b676-287e1981a472",
   "metadata": {},
   "outputs": [
    {
     "name": "stdout",
     "output_type": "stream",
     "text": [
      "tensor([0.4419, 0.6515, 0.5683])\n"
     ]
    }
   ],
   "source": [
    "context_vec_1 = attn_weights_1 @ inputs\n",
    "print(context_vec_1)"
   ]
  },
  {
   "cell_type": "markdown",
   "id": "6602b2d0-94ea-4174-b1fc-ab072c5a7155",
   "metadata": {},
   "source": [
    "计算所有输入词元的上下文向量"
   ]
  },
  {
   "cell_type": "code",
   "execution_count": 5,
   "id": "08d5cd27-0b9f-41ac-9e60-eae22d0df35e",
   "metadata": {},
   "outputs": [
    {
     "name": "stdout",
     "output_type": "stream",
     "text": [
      "tensor([[0.4421, 0.5931, 0.5790],\n",
      "        [0.4419, 0.6515, 0.5683],\n",
      "        [0.4431, 0.6496, 0.5671],\n",
      "        [0.4304, 0.6298, 0.5510],\n",
      "        [0.4671, 0.5910, 0.5266],\n",
      "        [0.4177, 0.6503, 0.5645]])\n"
     ]
    }
   ],
   "source": [
    "attn_scores = inputs @ inputs.T\n",
    "attn_weights = torch.softmax(attn_scores, dim=-1)\n",
    "context_vecs = attn_weights @ inputs\n",
    "print(context_vecs)"
   ]
  },
  {
   "cell_type": "markdown",
   "id": "1a836a81-dff7-4a1a-a190-59593f15f2fc",
   "metadata": {},
   "source": [
    "现在我们需要引入可训练权重（trainable weights），先定义三个可训练的矩阵："
   ]
  },
  {
   "cell_type": "code",
   "execution_count": null,
   "id": "51bc888f-12b9-44d3-bdec-9727faf5e843",
   "metadata": {},
   "outputs": [],
   "source": [
    "d_in, d_out = inputs.shape[1], 2\n",
    "torch.manual_seed(123)\n",
    "W_query = torch.nn.Parameter(torch.rand(d_in, d_out))\n",
    "W_key = torch.nn.Parameter(torch.rand(d_in, d_out))\n",
    "W_value = torch.nn.Parameter(torch.rand(d_in, d_out))"
   ]
  },
  {
   "cell_type": "markdown",
   "id": "eeba28db-07fb-411b-a8b7-a4b79607271e",
   "metadata": {},
   "source": [
    "计算 query："
   ]
  },
  {
   "cell_type": "code",
   "execution_count": 7,
   "id": "a6027728-20e5-41e9-b63a-807f37ea4f6e",
   "metadata": {},
   "outputs": [
    {
     "name": "stdout",
     "output_type": "stream",
     "text": [
      "tensor([0.4306, 1.4551], grad_fn=<SqueezeBackward4>)\n"
     ]
    }
   ],
   "source": [
    "x_1 = inputs[1]\n",
    "query_1 = x_1 @ W_query\n",
    "print(query_1)"
   ]
  },
  {
   "cell_type": "markdown",
   "id": "a90749d7-f852-4cb1-a9ef-82097208d321",
   "metadata": {},
   "source": [
    "计算所有输入词元的 value 和 key："
   ]
  },
  {
   "cell_type": "code",
   "execution_count": 8,
   "id": "9a49d2f2-7840-456e-919a-ac13d4b7314e",
   "metadata": {},
   "outputs": [
    {
     "name": "stdout",
     "output_type": "stream",
     "text": [
      "tensor([[0.3669, 0.7646],\n",
      "        [0.4433, 1.1419],\n",
      "        [0.4361, 1.1156],\n",
      "        [0.2408, 0.6706],\n",
      "        [0.1827, 0.3292],\n",
      "        [0.3275, 0.9642]], grad_fn=<MmBackward0>) tensor([[0.1855, 0.8812],\n",
      "        [0.3951, 1.0037],\n",
      "        [0.3879, 0.9831],\n",
      "        [0.2393, 0.5493],\n",
      "        [0.1492, 0.3346],\n",
      "        [0.3221, 0.7863]], grad_fn=<MmBackward0>)\n"
     ]
    }
   ],
   "source": [
    "keys = inputs @ W_key\n",
    "values = inputs @ W_value\n",
    "print(keys, values)"
   ]
  },
  {
   "cell_type": "markdown",
   "id": "7b44bcfc-c71f-4cbc-8b28-8c17d708bfd0",
   "metadata": {},
   "source": [
    "计算注意力分数："
   ]
  },
  {
   "cell_type": "code",
   "execution_count": 9,
   "id": "f1a1cd8e-a3ea-495b-93bb-59c8ffe3092b",
   "metadata": {},
   "outputs": [
    {
     "name": "stdout",
     "output_type": "stream",
     "text": [
      "tensor([1.2705, 1.8524, 1.8111, 1.0795, 0.5577, 1.5440],\n",
      "       grad_fn=<SqueezeBackward4>)\n"
     ]
    }
   ],
   "source": [
    "attn_scores_1 = query_1 @ keys.T\n",
    "print(attn_scores_1)"
   ]
  },
  {
   "cell_type": "markdown",
   "id": "efa5141c-7ac0-4282-807b-fee84ffde768",
   "metadata": {},
   "source": [
    "计算注意力权重，通过将注意力分数除以 key 的维度的平方根来实现缩放："
   ]
  },
  {
   "cell_type": "code",
   "execution_count": 10,
   "id": "e78c15e5-143e-48e7-9deb-c822d98cbbab",
   "metadata": {},
   "outputs": [
    {
     "name": "stdout",
     "output_type": "stream",
     "text": [
      "tensor([0.1500, 0.2264, 0.2199, 0.1311, 0.0906, 0.1820],\n",
      "       grad_fn=<SoftmaxBackward0>)\n"
     ]
    }
   ],
   "source": [
    "d_key = keys.shape[-1] # 2\n",
    "attn_weights_1 = torch.softmax(attn_scores_1 / d_key ** 0.5, dim=-1)\n",
    "print(attn_weights_1)"
   ]
  },
  {
   "cell_type": "markdown",
   "id": "6e0b8cda-a6b5-4041-909c-457b4303aa0d",
   "metadata": {},
   "source": [
    "计算上下文向量："
   ]
  },
  {
   "cell_type": "code",
   "execution_count": 11,
   "id": "537b563b-41a1-40a6-8670-365684fd58ab",
   "metadata": {},
   "outputs": [
    {
     "name": "stdout",
     "output_type": "stream",
     "text": [
      "tensor([0.3061, 0.8210], grad_fn=<SqueezeBackward4>)\n"
     ]
    }
   ],
   "source": [
    "context_vec_1 = attn_weights_1 @ values\n",
    "print(context_vec_1)"
   ]
  },
  {
   "cell_type": "markdown",
   "id": "a96e13bf-1820-4682-ab77-a4ccba328e5b",
   "metadata": {},
   "source": [
    "使用线性层对自注意力机制进行封装"
   ]
  },
  {
   "cell_type": "code",
   "execution_count": 12,
   "id": "e785093c-5c73-4c62-b85a-f7df6affc298",
   "metadata": {},
   "outputs": [],
   "source": [
    "import torch.nn as nn\n",
    "\n",
    "class SelfAttention(nn.Module):\n",
    "    def __init__(self, d_in, d_out, qkv_bias=False):\n",
    "        super().__init__()\n",
    "        self.W_query = nn.Linear(d_in, d_out, bias=qkv_bias)\n",
    "        self.W_key = nn.Linear(d_in, d_out, bias=qkv_bias)\n",
    "        self.W_value = nn.Linear(d_in, d_out, bias=qkv_bias)\n",
    "        \n",
    "    def forward(self, x):\n",
    "        queries = self.W_query(x)\n",
    "        keys = self.W_key(x)\n",
    "        values = self.W_value(x)\n",
    "        \n",
    "        d_key = keys.shape[-1]\n",
    "        attn_scores = queries @ keys.T\n",
    "        attn_weights = torch.softmax(attn_scores / d_key ** 0.5, dim=-1)\n",
    "        context_vec = attn_weights @ values\n",
    "        \n",
    "        return context_vec"
   ]
  },
  {
   "cell_type": "markdown",
   "id": "d83d4156-a8a6-4a6f-af8b-905647a94626",
   "metadata": {},
   "source": [
    "将包含了 6 个词元的输入传入该自注意力层中："
   ]
  },
  {
   "cell_type": "code",
   "execution_count": 13,
   "id": "3975d369-e0e0-4410-a526-15f9c66c1635",
   "metadata": {},
   "outputs": [
    {
     "name": "stdout",
     "output_type": "stream",
     "text": [
      "tensor([[-0.5337, -0.1051],\n",
      "        [-0.5323, -0.1080],\n",
      "        [-0.5323, -0.1079],\n",
      "        [-0.5297, -0.1076],\n",
      "        [-0.5311, -0.1066],\n",
      "        [-0.5299, -0.1081]], grad_fn=<MmBackward0>)\n"
     ]
    }
   ],
   "source": [
    "torch.manual_seed(123)\n",
    "sa = SelfAttention(d_in, d_out)\n",
    "print(sa(inputs))"
   ]
  },
  {
   "cell_type": "markdown",
   "id": "c5e630e6-e73e-464c-96f0-59c75aef7ec9",
   "metadata": {},
   "source": [
    "下面对标准自注意力机制进行改进，构建因果注意力机制\n",
    "\n",
    "第一种方式是在标准注意力机制的基础上，使用掩码将注意力权重右上部分全部变为 0，然后再重新进行一次归一化。"
   ]
  },
  {
   "cell_type": "code",
   "execution_count": 14,
   "id": "442b8900-ea99-43e1-a338-808ea5f44a3d",
   "metadata": {},
   "outputs": [
    {
     "name": "stdout",
     "output_type": "stream",
     "text": [
      "tensor([[1.0000, 0.0000, 0.0000, 0.0000, 0.0000, 0.0000],\n",
      "        [0.4833, 0.5167, 0.0000, 0.0000, 0.0000, 0.0000],\n",
      "        [0.3190, 0.3408, 0.3402, 0.0000, 0.0000, 0.0000],\n",
      "        [0.2445, 0.2545, 0.2542, 0.2468, 0.0000, 0.0000],\n",
      "        [0.1994, 0.2060, 0.2058, 0.1935, 0.1953, 0.0000],\n",
      "        [0.1624, 0.1709, 0.1706, 0.1654, 0.1625, 0.1682]],\n",
      "       grad_fn=<DivBackward0>)\n"
     ]
    }
   ],
   "source": [
    "queries = sa.W_query(inputs)\n",
    "keys = sa.W_key(inputs)\n",
    "attn_scores = queries @ keys.T\n",
    "d_key = keys.shape[-1]\n",
    "attn_weights = torch.softmax(attn_scores / d_key ** 0.5, dim=-1)\n",
    "\n",
    "sequence_length = attn_scores.shape[0]\n",
    "mask = torch.tril(torch.ones(sequence_length, sequence_length))\n",
    "masked_attn_scores = attn_weights * mask\n",
    "\n",
    "row_sums = masked_attn_scores.sum(dim=-1, keepdim=True)\n",
    "masked_attn_weights = masked_attn_scores / row_sums\n",
    "print(masked_attn_weights)"
   ]
  },
  {
   "cell_type": "markdown",
   "id": "73ae80d7-023a-4512-8f31-0d4b8ef73c66",
   "metadata": {},
   "source": [
    "借助 softmax 函数的数学特性，我们能够以更精简的步骤高效计算掩码注意力权重："
   ]
  },
  {
   "cell_type": "code",
   "execution_count": 15,
   "id": "9c5f097b-1ebe-41b7-88cb-65fed135046e",
   "metadata": {},
   "outputs": [
    {
     "name": "stdout",
     "output_type": "stream",
     "text": [
      "tensor([[1.0000, 0.0000, 0.0000, 0.0000, 0.0000, 0.0000],\n",
      "        [0.4833, 0.5167, 0.0000, 0.0000, 0.0000, 0.0000],\n",
      "        [0.3190, 0.3408, 0.3402, 0.0000, 0.0000, 0.0000],\n",
      "        [0.2445, 0.2545, 0.2542, 0.2468, 0.0000, 0.0000],\n",
      "        [0.1994, 0.2060, 0.2058, 0.1935, 0.1953, 0.0000],\n",
      "        [0.1624, 0.1709, 0.1706, 0.1654, 0.1625, 0.1682]],\n",
      "       grad_fn=<SoftmaxBackward0>)\n"
     ]
    }
   ],
   "source": [
    "mask = torch.triu(torch.ones(sequence_length, sequence_length), diagonal=1)\n",
    "masked_attn_scores = attn_scores.masked_fill(mask.bool(), -torch.inf)\n",
    "masked_attn_weights = torch.softmax(masked_attn_scores / d_key ** 0.5, dim=-1)\n",
    "print(masked_attn_weights)"
   ]
  },
  {
   "cell_type": "markdown",
   "id": "eecd83dd-7ef6-4bb4-9dfc-3a0dc7ba3e2e",
   "metadata": {},
   "source": [
    "在计算完注意力权重后施加 Dropout 掩码"
   ]
  },
  {
   "cell_type": "code",
   "execution_count": 16,
   "id": "a4ac6737-585d-467d-b7f8-caf77ded3052",
   "metadata": {},
   "outputs": [
    {
     "name": "stdout",
     "output_type": "stream",
     "text": [
      "tensor([[2.0000, 0.0000, 0.0000, 0.0000, 0.0000, 0.0000],\n",
      "        [0.0000, 0.0000, 0.0000, 0.0000, 0.0000, 0.0000],\n",
      "        [0.6380, 0.6816, 0.6804, 0.0000, 0.0000, 0.0000],\n",
      "        [0.0000, 0.5090, 0.5085, 0.0000, 0.0000, 0.0000],\n",
      "        [0.0000, 0.4120, 0.0000, 0.3869, 0.0000, 0.0000],\n",
      "        [0.0000, 0.3418, 0.3413, 0.3308, 0.3249, 0.0000]],\n",
      "       grad_fn=<MulBackward0>)\n"
     ]
    }
   ],
   "source": [
    "torch.manual_seed(123)\n",
    "dropout = torch.nn.Dropout(0.5)\n",
    "print(dropout(masked_attn_weights))"
   ]
  },
  {
   "cell_type": "markdown",
   "id": "ede54e00-4f33-45a8-88b6-82e390ab2eea",
   "metadata": {},
   "source": [
    "综合以上内容，实现一个带有 Dropout 对因果注意力模块："
   ]
  },
  {
   "cell_type": "code",
   "execution_count": 17,
   "id": "0c1300ae-c5cb-439c-b820-11b0e4d56afe",
   "metadata": {},
   "outputs": [],
   "source": [
    "class CausalAttention(nn.Module):\n",
    "    def __init__(self, d_in, d_out, context_length, dropout, qkv_bias=False):\n",
    "        super().__init__()\n",
    "        self.W_query = nn.Linear(d_in, d_out, bias=qkv_bias)\n",
    "        self.W_key = nn.Linear(d_in, d_out, bias=qkv_bias)\n",
    "        self.W_value = nn.Linear(d_in, d_out, bias=qkv_bias)\n",
    "        self.dropout = nn.Dropout(dropout)\n",
    "        tmp = torch.ones(context_length, context_length)\n",
    "        self.register_buffer('mask', torch.triu(tmp, diagonal=1))\n",
    "        \n",
    "    def forward(self, x):\n",
    "        batch_size, num_tokens, d_in = x.shape\n",
    "        keys = self.W_key(x)\n",
    "        queries = self.W_query(x)\n",
    "        values = self.W_value(x)\n",
    "        d_key = keys.shape[-1]\n",
    "        \n",
    "        attn_scores = queries @ keys.transpose(1, 2)\n",
    "        mask = self.mask.bool()[:num_tokens, :num_tokens] # type: ignore\n",
    "        attn_scores.masked_fill_(mask, -torch.inf)\n",
    "        attn_weights = torch.softmax(attn_scores / d_key ** 0.5, dim=-1)\n",
    "        attn_weights = self.dropout(attn_weights)\n",
    "        \n",
    "        context_vecs = attn_weights @ values\n",
    "        return context_vecs"
   ]
  },
  {
   "cell_type": "code",
   "execution_count": 19,
   "id": "f3748b03",
   "metadata": {},
   "outputs": [
    {
     "name": "stdout",
     "output_type": "stream",
     "text": [
      "batch.shape: torch.Size([2, 6, 3]) \n",
      "context_vecs.shape: torch.Size([2, 6, 2])\n"
     ]
    }
   ],
   "source": [
    "torch.manual_seed(123)\n",
    "batch = torch.stack((inputs, inputs), dim=0)\n",
    "sequence_length = batch.shape[1]\n",
    "ca = CausalAttention(d_in, d_out, sequence_length, 0.0)\n",
    "context_vecs = ca(batch)\n",
    "print(\"batch.shape:\", batch.shape, \"\\ncontext_vecs.shape:\", context_vecs.shape)"
   ]
  },
  {
   "cell_type": "markdown",
   "id": "49ab51f4-02f0-45f2-93fe-85abbea3197f",
   "metadata": {},
   "source": [
    "下面将把因果注意力模块扩展至多头结构，即多头注意力"
   ]
  },
  {
   "cell_type": "code",
   "execution_count": 18,
   "id": "4c12bc46-3331-47a4-b894-cb8fe9936717",
   "metadata": {},
   "outputs": [],
   "source": [
    "class MultiHeadAttentionWrapper(nn.Module):\n",
    "    def __init__(self, d_in, d_out, sequence_length, dropout, num_heads, qkv_bias=False):\n",
    "        super().__init__()\n",
    "        self.heads = nn.ModuleList(\n",
    "            [CausalAttention(d_in, d_out, sequence_length, dropout, qkv_bias)\n",
    "            for _ in range(num_heads)]\n",
    "        )\n",
    "        \n",
    "    def forward(self, x):\n",
    "        return torch.cat([head(x) for head in self.heads], dim=-1)"
   ]
  },
  {
   "cell_type": "code",
   "execution_count": 20,
   "id": "7c29b519",
   "metadata": {},
   "outputs": [
    {
     "name": "stdout",
     "output_type": "stream",
     "text": [
      "torch.Size([2, 6, 4])\n"
     ]
    }
   ],
   "source": [
    "torch.manual_seed(123)\n",
    "sequence_length = batch.shape[1]\n",
    "d_in, d_out = 3, 2\n",
    "mha = MultiHeadAttentionWrapper(d_in, d_out, sequence_length, 0.0, num_heads=2)\n",
    "context_vecs = mha(batch)\n",
    "print(context_vecs.shape)"
   ]
  },
  {
   "cell_type": "markdown",
   "id": "175dfa03",
   "metadata": {},
   "source": [
    "可以通过并行处理的多头注意力来优化实现方案"
   ]
  },
  {
   "cell_type": "code",
   "execution_count": null,
   "id": "6de9c645",
   "metadata": {},
   "outputs": [],
   "source": [
    "class MultiHeadAttention(nn.Module):\n",
    "    def __init__(self, d_in, d_out, context_length, dropout, num_heads, qkv_bias=False):\n",
    "        super().__init__()\n",
    "        assert d_out % num_heads == 0, \"d_out must be divisible by num_heads\"\n",
    "        self.num_heads = num_heads\n",
    "        self.head_dim = d_out // num_heads\n",
    "        self.d_out = d_out\n",
    "\n",
    "        self.W_query = nn.Linear(d_in, d_out, bias=qkv_bias)\n",
    "        self.W_key = nn.Linear(d_in, d_out, bias=qkv_bias)\n",
    "        self.W_value = nn.Linear(d_in, d_out, bias=qkv_bias)\n",
    "        self.out_proj = nn.Linear(d_out, d_out)\n",
    "        self.dropout = nn.Dropout(dropout)\n",
    "        tmp = torch.ones(context_length, context_length)\n",
    "        self.register_buffer('mask', torch.triu(tmp, diagonal=1))\n",
    "        \n",
    "    def forward(self, x):\n",
    "        batch_size, num_tokens, d_in = x.shape\n",
    "        keys = self.W_key(x)\n",
    "        queries = self.W_query(x)\n",
    "        values = self.W_value(x)\n",
    "        \n",
    "        keys = keys.view(batch_size, num_tokens, self.num_heads, self.head_dim)\n",
    "        queries = queries.view(batch_size, num_tokens, self.num_heads, self.head_dim)\n",
    "        values = values.view(batch_size, num_tokens, self.num_heads, self.head_dim)\n",
    "        \n",
    "        keys = keys.transpose(1, 2)\n",
    "        queries = queries.transpose(1, 2)\n",
    "        values = values.transpose(1, 2)\n",
    "        d_key = keys.shape[-1]\n",
    "        \n",
    "        attn_scores = queries @ keys.transpose(2, 3)\n",
    "        mask = self.mask.bool()[:num_tokens, :num_tokens] # type: ignore\n",
    "        attn_scores.masked_fill_(mask, -torch.inf)\n",
    "        attn_weights = torch.softmax(attn_scores / d_key ** 0.5, dim=-1)\n",
    "        attn_weights = self.dropout(attn_weights)\n",
    "        \n",
    "        context_vecs = (attn_weights @ values).transpose(1, 2)\n",
    "        context_vecs = context_vecs.contiguous().view(batch_size, num_tokens, self.d_out)\n",
    "        context_vecs = self.out_proj(context_vecs)\n",
    "        return context_vecs"
   ]
  }
 ],
 "metadata": {
  "kernelspec": {
   "display_name": "road2dl",
   "language": "python",
   "name": "python3"
  },
  "language_info": {
   "codemirror_mode": {
    "name": "ipython",
    "version": 3
   },
   "file_extension": ".py",
   "mimetype": "text/x-python",
   "name": "python",
   "nbconvert_exporter": "python",
   "pygments_lexer": "ipython3",
   "version": "3.12.9"
  }
 },
 "nbformat": 4,
 "nbformat_minor": 5
}
