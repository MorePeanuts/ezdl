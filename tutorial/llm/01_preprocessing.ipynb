{
 "cells": [
  {
   "cell_type": "markdown",
   "id": "566fa15d-6820-43ed-9bae-3d79ce5b4660",
   "metadata": {},
   "source": [
    "以the-verdict.txt为例展示手动分词，先统计总字符数："
   ]
  },
  {
   "cell_type": "code",
   "execution_count": 1,
   "id": "68c86fed-ea84-4012-9160-b6fa9e59aee1",
   "metadata": {},
   "outputs": [
    {
     "name": "stdout",
     "output_type": "stream",
     "text": [
      "Total number of character: 20479\n"
     ]
    }
   ],
   "source": [
    "with open('../../datasets/the_verdict/the-verdict.txt', 'r', encoding='utf-8') as f:\n",
    "    raw_text = f.read()\n",
    "print(\"Total number of character:\", len(raw_text)) # 20479"
   ]
  },
  {
   "cell_type": "markdown",
   "id": "bc7432ee-5590-4953-b732-b45a769f4a65",
   "metadata": {},
   "source": [
    "简单分词："
   ]
  },
  {
   "cell_type": "code",
   "execution_count": 2,
   "id": "5a6633dd-a340-4598-b979-d530632b5491",
   "metadata": {},
   "outputs": [
    {
     "name": "stdout",
     "output_type": "stream",
     "text": [
      "Total number of tokens (from scratch): 4690\n"
     ]
    }
   ],
   "source": [
    "import re\n",
    "\n",
    "def tokenize_scratch(text: str) -> list[str]:\n",
    "    result = re.split(r'([,.:;?_!\"()\\']|--|\\s)', text)\n",
    "    result = [item for item in result if item.strip()]\n",
    "    return result\n",
    "\n",
    "tokenized_text = tokenize_scratch(raw_text)\n",
    "print(\"Total number of tokens (from scratch):\", len(tokenized_text))"
   ]
  },
  {
   "cell_type": "markdown",
   "id": "e4784458-9620-4e5d-8b95-261e4fe0d748",
   "metadata": {},
   "source": [
    "将token转换为tokenID，首先需要构建一个词表："
   ]
  },
  {
   "cell_type": "code",
   "execution_count": 3,
   "id": "520c5efe-084d-4302-9ab8-1cbc71d57b4f",
   "metadata": {},
   "outputs": [
    {
     "name": "stdout",
     "output_type": "stream",
     "text": [
      "Total number of unique tokens (vocab size): 1130\n"
     ]
    }
   ],
   "source": [
    "def build_vocab_scratch(tokenized_text: list[str]) -> tuple[dict[str, int], int]:\n",
    "    all_tokens = sorted(set(tokenized_text))\n",
    "    vocab_size = len(all_tokens)\n",
    "    vocab = {token: idx for idx, token in enumerate(all_tokens)}\n",
    "    return vocab, vocab_size\n",
    "\n",
    "vocab, vocab_size = build_vocab_scratch(tokenized_text)\n",
    "print(\"Total number of unique tokens (vocab size):\", vocab_size)"
   ]
  },
  {
   "cell_type": "markdown",
   "id": "5eb64445-01e0-4e58-8b06-4376e07d2be3",
   "metadata": {},
   "source": [
    "创建一个逆向词表（inverse vocabulary），将 token ID 映射回对应的词元"
   ]
  },
  {
   "cell_type": "code",
   "execution_count": 4,
   "id": "6680708a-0a3e-4f5b-85ff-ee14681cda18",
   "metadata": {},
   "outputs": [
    {
     "name": "stdout",
     "output_type": "stream",
     "text": [
      "[1, 56, 2, 850, 988, 602, 533, 746, 5, 1126, 596, 5, 1, 67, 7, 38, 851, 1108, 754, 793, 7]\n"
     ]
    }
   ],
   "source": [
    "class SimpleTokenizer:\n",
    "    def __init__(self, vocab: dict[str, int]):\n",
    "        self.str_to_int = vocab\n",
    "        self.int_to_str = {idx: token for token, idx in vocab.items()}\n",
    "        \n",
    "    def encode(self, text: str) -> list[int]:\n",
    "        tokenized_text = tokenize_scratch(text)\n",
    "        ids = [self.str_to_int[token] for token in tokenized_text]\n",
    "        return ids\n",
    "    \n",
    "    def decode(self, ids: list[int]) -> str:\n",
    "        text = \" \".join([self.int_to_str[i] for i in ids])\n",
    "        text = re.sub(r'\\s+([,.?!\"()\\'])', r'\\1', text)\n",
    "        return text\n",
    "    \n",
    "tokenizer = SimpleTokenizer(vocab)\n",
    "text = \"\"\"\"It's the last he painted, you know,\" Mrs. Gisburn said with pardonable pride.\"\"\"\n",
    "ids = tokenizer.encode(text)\n",
    "print(ids)"
   ]
  },
  {
   "cell_type": "markdown",
   "id": "463b1d1f-3ed3-4744-904d-2356ee4634c3",
   "metadata": {},
   "source": [
    "新增支持 <|unk|> 和 <|endoftext|> 两个特殊词元"
   ]
  },
  {
   "cell_type": "code",
   "execution_count": 5,
   "id": "e0b84088-fdfc-42b4-85ea-66225d71e89d",
   "metadata": {},
   "outputs": [
    {
     "name": "stdout",
     "output_type": "stream",
     "text": [
      "Total number of unique tokens (vocab size): 1132\n",
      "[1131, 5, 355, 1126, 628, 975, 10, 1130, 55, 988, 956, 984, 722, 988, 1131, 7]\n",
      "<|unk>, do you like tea? <|endoftext|> In the sunlit terraces of the <|unk>.\n"
     ]
    }
   ],
   "source": [
    "def build_vocab_scratch(tokenized_text: list[str]) -> tuple[dict[str, int], int]:\n",
    "    all_tokens = sorted(list(set(tokenized_text)))\n",
    "    all_tokens.extend([\"<|endoftext|>\", \"<|unk>\"])\n",
    "    vocab_size = len(all_tokens)\n",
    "    vocab = {token: idx for idx, token in enumerate(all_tokens)}\n",
    "    return vocab, vocab_size\n",
    "\n",
    "class SimpleTokenizer:\n",
    "    def __init__(self, vocab: dict[str, int]):\n",
    "        self.str_to_int = vocab\n",
    "        self.int_to_str = {idx: token for token, idx in vocab.items()}\n",
    "        \n",
    "    def encode(self, text: str) -> list[int]:\n",
    "        tokenized_text = tokenize_scratch(text)\n",
    "        tokenized_text = [token if token in self.str_to_int else \"<|unk>\" for token in tokenized_text]\n",
    "        ids = [self.str_to_int[token] for token in tokenized_text]\n",
    "        return ids\n",
    "    \n",
    "    def decode(self, ids: list[int]) -> str:\n",
    "        text = \" \".join([self.int_to_str[i] for i in ids])\n",
    "        text = re.sub(r'\\s+([,.?!\"()\\'])', r'\\1', text)\n",
    "        return text\n",
    "    \n",
    "vocab, vocab_size = build_vocab_scratch(tokenized_text)\n",
    "print(\"Total number of unique tokens (vocab size):\", vocab_size)\n",
    "tokenizer = SimpleTokenizer(vocab)\n",
    "\n",
    "text1 = \"Hello, do you like tea?\"\n",
    "text2 = \"In the sunlit terraces of the palace.\"\n",
    "text = \" <|endoftext|> \".join((text1, text2))\n",
    "ids = tokenizer.encode(text)\n",
    "print(ids)\n",
    "print(tokenizer.decode(ids))"
   ]
  },
  {
   "cell_type": "markdown",
   "id": "da7403f7-6c71-4659-a24b-2e1f968a2e4a",
   "metadata": {},
   "source": [
    "GPT使用字节对编码（BPE）的方式。\n",
    "\n",
    "BPE 算法的实现相对复杂，我们可以使用 tiktoken 库，该库基于 Rust 源代码高效实现了 BPE 算法"
   ]
  },
  {
   "cell_type": "code",
   "execution_count": 6,
   "id": "fff720b6-851b-4535-ae8e-d58ff7626317",
   "metadata": {},
   "outputs": [
    {
     "name": "stdout",
     "output_type": "stream",
     "text": [
      "[15496, 11, 466, 345, 588, 8887, 30, 220, 50256, 554, 262, 4252, 18250, 8812, 2114, 286, 617, 34680, 27271, 13]\n",
      "Hello, do you like tea? <|endoftext|> In the sunlit terraces of someunknownPlace.\n"
     ]
    }
   ],
   "source": [
    "import tiktoken\n",
    "\n",
    "tokenizer = tiktoken.get_encoding(\"gpt2\")\n",
    "text = \"Hello, do you like tea? <|endoftext|> In the sunlit terraces of someunknownPlace.\" \n",
    "ids = tokenizer.encode(text, allowed_special={\"<|endoftext|>\"}) \n",
    "print(ids)\n",
    "print(tokenizer.decode(ids))"
   ]
  },
  {
   "cell_type": "markdown",
   "id": "fa710bf1-16a8-4dfc-91cc-4f2cfab6872d",
   "metadata": {},
   "source": [
    "下面我们实现一个数据加载器（data loader），通过滑动窗口（sliding window）方法从训练数据集中获取输入-目标对，首先对全文进行分词："
   ]
  },
  {
   "cell_type": "code",
   "execution_count": 7,
   "id": "4158f1e9-c20f-48c4-81c5-0fdc4536562f",
   "metadata": {},
   "outputs": [
    {
     "name": "stdout",
     "output_type": "stream",
     "text": [
      "Total number of tokens (with gpt2 tokenizer): 5145\n"
     ]
    }
   ],
   "source": [
    "enc_text = tokenizer.encode(raw_text)\n",
    "print(\"Total number of tokens (with gpt2 tokenizer):\", len(enc_text)) # 5145"
   ]
  },
  {
   "cell_type": "markdown",
   "id": "6ecdc49a-67b1-4a8b-aedb-5edb783f72a0",
   "metadata": {},
   "source": [
    "BPE 分词器的 encode 方法会一次性完成分词和 token ID 转换两个步骤。下面实现数据加载器："
   ]
  },
  {
   "cell_type": "code",
   "execution_count": 8,
   "id": "92584839-0d2d-49cc-9dcf-ff2137748a92",
   "metadata": {},
   "outputs": [],
   "source": [
    "import torch\n",
    "from torch.utils.data import Dataset, DataLoader\n",
    "\n",
    "class GPT2Dataset(Dataset):\n",
    "    def __init__(self, txt, tokenizer, max_length, stride):\n",
    "        self.input_ids = []\n",
    "        self.target_ids = []\n",
    "        \n",
    "        token_ids = tokenizer.encode(txt)\n",
    "        \n",
    "        for i in range(0, len(token_ids) - max_length, stride):\n",
    "            input_chunk = token_ids[i : i + max_length]\n",
    "            target_chunk = token_ids[i + 1 : i + max_length + 1]\n",
    "            self.input_ids.append(torch.tensor(input_chunk))\n",
    "            self.target_ids.append(torch.tensor(target_chunk))\n",
    "            \n",
    "    def __len__(self):\n",
    "        return len(self.input_ids)\n",
    "    \n",
    "    def __getitem__(self, idx):\n",
    "        return self.input_ids[idx], self.target_ids[idx]\n",
    "    \n",
    "def create_GPT2_dataloader(txt, batch_size=4, max_length=256, stride=128, shuffle=True, drop_last=True, num_workers=0):\n",
    "    tokenizer = tiktoken.get_encoding(\"gpt2\")\n",
    "    dataset = GPT2Dataset(txt, tokenizer, max_length, stride)\n",
    "    dataloader = DataLoader(\n",
    "        dataset,\n",
    "        batch_size=batch_size,\n",
    "        shuffle=shuffle,\n",
    "        drop_last=drop_last,\n",
    "        num_workers=num_workers,\n",
    "    )\n",
    "    return dataloader"
   ]
  },
  {
   "cell_type": "markdown",
   "id": "b47f3e81-fd0e-48b9-9a76-59b313b19c8a",
   "metadata": {},
   "source": [
    "为 LLM 训练准备输入文本的最后一步，是将 token ID 转化为嵌入向量"
   ]
  },
  {
   "cell_type": "code",
   "execution_count": 9,
   "id": "1e774cb2-d4ce-4af5-91e3-7980af1e1a6e",
   "metadata": {},
   "outputs": [
    {
     "name": "stdout",
     "output_type": "stream",
     "text": [
      "tensor([[ 0.3374, -0.1778, -0.1690],\n",
      "        [ 0.9178,  1.5810,  1.3010],\n",
      "        [ 1.2753, -0.2010, -0.1606],\n",
      "        [-0.4015,  0.9666, -1.1481],\n",
      "        [-1.1589,  0.3255, -0.6315],\n",
      "        [-2.8400, -0.7849, -1.4096]])\n",
      "tensor([[ 1.2753, -0.2010, -0.1606],\n",
      "        [-0.4015,  0.9666, -1.1481],\n",
      "        [-2.8400, -0.7849, -1.4096],\n",
      "        [ 0.9178,  1.5810,  1.3010]], grad_fn=<EmbeddingBackward0>)\n"
     ]
    }
   ],
   "source": [
    "input_ids = torch.tensor([2, 3, 5, 1])\n",
    "vocab_size = 6\n",
    "output_dim = 3\n",
    "\n",
    "torch.manual_seed(123)\n",
    "embedding_layer = torch.nn.Embedding(vocab_size, output_dim)\n",
    "print(embedding_layer.weight.data)\n",
    "print(embedding_layer(input_ids))"
   ]
  },
  {
   "cell_type": "code",
   "execution_count": 10,
   "id": "7e58c382-8479-47ce-8ca6-9a7618ab6da5",
   "metadata": {},
   "outputs": [],
   "source": [
    "vocab_size = 50257\n",
    "hidden_dim = 256\n",
    "token_embedding_layer = torch.nn.Embedding(vocab_size, hidden_dim)"
   ]
  },
  {
   "cell_type": "markdown",
   "id": "ae38d89a-78a5-476f-b564-a5d214e0e2c3",
   "metadata": {},
   "source": [
    "将每个批次中的每个词元转化为一个 256 维嵌入向量。假设批次大小为 8 且每个样本包含 4 个词元，最终将生成一个 8×4×256 的三维张量"
   ]
  },
  {
   "cell_type": "code",
   "execution_count": 12,
   "id": "ecb6cf76-5cfb-43d3-a9c4-6e93bcc4d29f",
   "metadata": {},
   "outputs": [
    {
     "name": "stdout",
     "output_type": "stream",
     "text": [
      "Inputs shape:\n",
      " torch.Size([8, 4])\n",
      "Embedding inputs shape:\n",
      " torch.Size([8, 4, 256])\n"
     ]
    }
   ],
   "source": [
    "max_length = 4\n",
    "dataloader = create_GPT2_dataloader(\n",
    "    raw_text, batch_size=8, max_length=max_length, \n",
    "    stride=max_length, shuffle=False\n",
    ")\n",
    "data_iter = iter(dataloader)\n",
    "inputs, targets = next(data_iter)\n",
    "print(\"Inputs shape:\\n\", inputs.shape)\n",
    "\n",
    "token_embeddings = token_embedding_layer(inputs)\n",
    "print(\"Embedding inputs shape:\\n\", token_embeddings.shape)"
   ]
  },
  {
   "cell_type": "markdown",
   "id": "88803060-4fea-4d26-bc5e-16e3f37c4504",
   "metadata": {},
   "source": [
    "对于 GPT 模型的绝对嵌入方法，只需创建另一个与 token_embedding_layer 维度相同的嵌入层"
   ]
  },
  {
   "cell_type": "code",
   "execution_count": 13,
   "id": "c39d3bf0-f2ad-429e-845a-15d6ff20e442",
   "metadata": {},
   "outputs": [
    {
     "name": "stdout",
     "output_type": "stream",
     "text": [
      "Position embedding shape:\n",
      " torch.Size([4, 256])\n"
     ]
    }
   ],
   "source": [
    "pos_embedding_layer = torch.nn.Embedding(max_length, hidden_dim)\n",
    "pos_embeddings = pos_embedding_layer(torch.arange(max_length))\n",
    "print(\"Position embedding shape:\\n\", pos_embeddings.shape) # (4, 256)"
   ]
  },
  {
   "cell_type": "markdown",
   "id": "7a297f04-f5d4-4979-8ce9-8a168743e8a7",
   "metadata": {},
   "source": [
    "直接将位置嵌入编码与词元嵌入相加，得到最终输入到 LLM 中的嵌入向量："
   ]
  },
  {
   "cell_type": "code",
   "execution_count": 14,
   "id": "8aac5a9f-ccb3-42c4-a3fa-dddbbe23bed2",
   "metadata": {},
   "outputs": [
    {
     "name": "stdout",
     "output_type": "stream",
     "text": [
      "Input embeddings shape:\n",
      " torch.Size([8, 4, 256])\n"
     ]
    }
   ],
   "source": [
    "input_embeddings = token_embeddings + pos_embeddings\n",
    "print(\"Input embeddings shape:\\n\", input_embeddings.shape) # (8, 4, 256)"
   ]
  },
  {
   "cell_type": "code",
   "execution_count": null,
   "id": "1d7c22cc-be8e-486d-90f7-5d8d4b9f6dc2",
   "metadata": {},
   "outputs": [],
   "source": []
  }
 ],
 "metadata": {
  "kernelspec": {
   "display_name": "Python 3 (ipykernel)",
   "language": "python",
   "name": "python3"
  },
  "language_info": {
   "codemirror_mode": {
    "name": "ipython",
    "version": 3
   },
   "file_extension": ".py",
   "mimetype": "text/x-python",
   "name": "python",
   "nbconvert_exporter": "python",
   "pygments_lexer": "ipython3",
   "version": "3.12.9"
  }
 },
 "nbformat": 4,
 "nbformat_minor": 5
}
